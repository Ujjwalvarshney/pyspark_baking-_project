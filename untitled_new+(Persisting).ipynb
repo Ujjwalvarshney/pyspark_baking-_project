{
 "cells": [
  {
   "cell_type": "code",
   "execution_count": null,
   "metadata": {
    "collapsed": true
   },
   "outputs": [],
   "source": []
  },
  {
   "cell_type": "code",
   "execution_count": 1,
   "metadata": {
    "collapsed": true
   },
   "outputs": [],
   "source": [
    "spark = SparkSession.builder.appName(\"InClass Notebook\").getOrCreate()"
   ]
  },
  {
   "cell_type": "code",
   "execution_count": 2,
   "metadata": {
    "collapsed": true
   },
   "outputs": [],
   "source": [
    "import pyspark.sql.functions as F\n",
    "from pyspark.ml.classification import LogisticRegression\n",
    "from pyspark.ml.feature import VectorAssembler\n",
    "from pyspark.ml import Pipeline, PipelineModel\n",
    "from pyspark.ml.feature import OneHotEncoder, StringIndexer\n",
    "from pyspark.ml.feature import Bucketizer"
   ]
  },
  {
   "cell_type": "code",
   "execution_count": 3,
   "metadata": {
    "collapsed": true
   },
   "outputs": [],
   "source": [
    "columns = [\n",
    "    'TARGET',\n",
    "'NAME_CONTRACT_TYPE',\n",
    "'CODE_GENDER',\n",
    "'FLAG_OWN_CAR',\n",
    "'FLAG_OWN_REALTY',\n",
    "'CNT_CHILDREN',\n",
    "'AMT_INCOME_TOTAL',\n",
    "'AMT_CREDIT',\n",
    "'AMT_ANNUITY',\n",
    "'NAME_INCOME_TYPE',\n",
    "'NAME_EDUCATION_TYPE',\n",
    "'NAME_FAMILY_STATUS',\n",
    "'NAME_HOUSING_TYPE',\n",
    "'DAYS_BIRTH',\n",
    "'DAYS_EMPLOYED',\n",
    "'FLAG_MOBIL',\n",
    "'FLAG_EMP_PHONE',\n",
    "'FLAG_WORK_PHONE',\n",
    "'FLAG_CONT_MOBILE',\n",
    "'FLAG_PHONE',\n",
    "'CNT_FAM_MEMBERS',\n",
    "'REGION_RATING_CLIENT',\n",
    "'REGION_RATING_CLIENT_W_CITY',\n",
    "'REG_REGION_NOT_LIVE_REGION',\n",
    "'REG_REGION_NOT_WORK_REGION',\n",
    "'ORGANIZATION_TYPE',\n",
    "'FLAG_DOCUMENT_2',\n",
    "'FLAG_DOCUMENT_3',\n",
    "'FLAG_DOCUMENT_4',\n",
    "'FLAG_DOCUMENT_5',\n",
    "'FLAG_DOCUMENT_6',\n",
    "'FLAG_DOCUMENT_7',\n",
    "'FLAG_DOCUMENT_8',\n",
    "'FLAG_DOCUMENT_9',\n",
    "'FLAG_DOCUMENT_10',\n",
    "'FLAG_DOCUMENT_11',\n",
    "'FLAG_DOCUMENT_12'\n",
    "]"
   ]
  },
  {
   "cell_type": "code",
   "execution_count": 4,
   "metadata": {},
   "outputs": [
    {
     "data": {
      "text/plain": [
       "DataFrame[TARGET: int, NAME_CONTRACT_TYPE: string, CODE_GENDER: string, FLAG_OWN_CAR: string, FLAG_OWN_REALTY: string, CNT_CHILDREN: int, AMT_INCOME_TOTAL: double, AMT_CREDIT: double, AMT_ANNUITY: double, NAME_INCOME_TYPE: string, NAME_EDUCATION_TYPE: string, NAME_FAMILY_STATUS: string, NAME_HOUSING_TYPE: string, DAYS_BIRTH: int, DAYS_EMPLOYED: int, FLAG_MOBIL: int, FLAG_EMP_PHONE: int, FLAG_WORK_PHONE: int, FLAG_CONT_MOBILE: int, FLAG_PHONE: int, CNT_FAM_MEMBERS: double, REGION_RATING_CLIENT: int, REGION_RATING_CLIENT_W_CITY: int, REG_REGION_NOT_LIVE_REGION: int, REG_REGION_NOT_WORK_REGION: int, ORGANIZATION_TYPE: string, FLAG_DOCUMENT_2: int, FLAG_DOCUMENT_3: int, FLAG_DOCUMENT_4: int, FLAG_DOCUMENT_5: int, FLAG_DOCUMENT_6: int, FLAG_DOCUMENT_7: int, FLAG_DOCUMENT_8: int, FLAG_DOCUMENT_9: int, FLAG_DOCUMENT_10: int, FLAG_DOCUMENT_11: int, FLAG_DOCUMENT_12: int]"
      ]
     },
     "execution_count": 4,
     "metadata": {},
     "output_type": "execute_result"
    }
   ],
   "source": [
    "data = spark.read.option(\"inferSchema\", True).csv(\"hdfs:///user/edureka_448212/sqoop_import1/*\").limit(1000)\n",
    "data = data.toDF(*columns)\n",
    "data.count()\n",
    "data.cache()"
   ]
  },
  {
   "cell_type": "code",
   "execution_count": 5,
   "metadata": {},
   "outputs": [
    {
     "name": "stdout",
     "output_type": "stream",
     "text": [
      "+-------+-----------------+------------------+\n",
      "|summary|       DAYS_BIRTH|               AGE|\n",
      "+-------+-----------------+------------------+\n",
      "|  count|             1000|              1000|\n",
      "|   mean|       -15872.748|43.486980821917804|\n",
      "| stddev|4235.854370105366|11.605080466042105|\n",
      "|    min|           -25104| 21.10958904109589|\n",
      "|    max|            -7705| 68.77808219178083|\n",
      "+-------+-----------------+------------------+\n",
      "\n"
     ]
    }
   ],
   "source": [
    "data = data.withColumn(\"AGE\", F.col(\"DAYS_BIRTH\")/-365)\n",
    "data.select(\"DAYS_BIRTH\",\"AGE\").describe().show()"
   ]
  },
  {
   "cell_type": "code",
   "execution_count": 6,
   "metadata": {
    "collapsed": true
   },
   "outputs": [],
   "source": [
    "data = data.withColumn('DAYS_EMPLOYED_ANOM',F.col(\"DAYS_EMPLOYED\") == 365243)\n",
    "data = data.withColumn('DAYS_EMPLOYED', F.when(F.col('DAYS_EMPLOYED') == 365243, 0).otherwise(F.col('DAYS_EMPLOYED')))"
   ]
  },
  {
   "cell_type": "code",
   "execution_count": 7,
   "metadata": {
    "collapsed": true
   },
   "outputs": [],
   "source": [
    "data = data.withColumn('CREDIT_INCOME_PERCENT',F.col('AMT_CREDIT')/F.col('AMT_INCOME_TOTAL'))\n",
    "data = data.withColumn('ANNUITY_INCOME_PERCENT',F.col('AMT_ANNUITY')/F.col('AMT_INCOME_TOTAL'))\n",
    "data = data.withColumn('CREDIT_TERM',F.col('AMT_ANNUITY')/F.col('AMT_CREDIT'))\n",
    "data = data.withColumn('DAYS_EMPLOYED_PERCENT',F.col('DAYS_EMPLOYED')/F.col('DAYS_BIRTH'))\n",
    "data = data.withColumn(\"label\",F.col(\"TARGET\"))"
   ]
  },
  {
   "cell_type": "code",
   "execution_count": 8,
   "metadata": {
    "collapsed": true
   },
   "outputs": [],
   "source": [
    "feature_cols = [\n",
    " 'CNT_CHILDREN',\n",
    " 'AMT_INCOME_TOTAL',\n",
    " 'AMT_CREDIT',\n",
    " 'AMT_ANNUITY',\n",
    " 'DAYS_EMPLOYED',\n",
    " 'FLAG_MOBIL',\n",
    " 'FLAG_EMP_PHONE',\n",
    " 'FLAG_WORK_PHONE',\n",
    " 'FLAG_CONT_MOBILE',\n",
    " 'FLAG_PHONE',\n",
    " 'CNT_FAM_MEMBERS',\n",
    " 'REGION_RATING_CLIENT',\n",
    " 'REGION_RATING_CLIENT_W_CITY',\n",
    " 'REG_REGION_NOT_LIVE_REGION',\n",
    " 'REG_REGION_NOT_WORK_REGION',\n",
    " 'FLAG_DOCUMENT_2',\n",
    " 'FLAG_DOCUMENT_3',\n",
    " 'FLAG_DOCUMENT_4',\n",
    " 'FLAG_DOCUMENT_5',\n",
    " 'FLAG_DOCUMENT_6',\n",
    " 'FLAG_DOCUMENT_7',\n",
    " 'FLAG_DOCUMENT_8',\n",
    " 'FLAG_DOCUMENT_9',\n",
    " 'FLAG_DOCUMENT_10',\n",
    " 'FLAG_DOCUMENT_11',\n",
    " 'FLAG_DOCUMENT_12',\n",
    " 'NAME_CONTRACT_TYPE_index',\n",
    " 'CODE_GENDER_index',\n",
    " 'FLAG_OWN_CAR_index',\n",
    " 'FLAG_OWN_REALTY_index',\n",
    " 'NAME_INCOME_TYPE_Vec',\n",
    " 'NAME_EDUCATION_TYPE_Vec',\n",
    " 'ORGANIZATION_TYPE_Vec',\n",
    " 'AGE',\n",
    " 'DAYS_EMPLOYED_ANOM',\n",
    " 'bucketedData',\n",
    " 'CREDIT_INCOME_PERCENT',\n",
    " 'ANNUITY_INCOME_PERCENT',\n",
    " 'CREDIT_TERM',\n",
    " 'DAYS_EMPLOYED_PERCENT']"
   ]
  },
  {
   "cell_type": "code",
   "execution_count": 9,
   "metadata": {
    "collapsed": true
   },
   "outputs": [],
   "source": [
    "indexers = [StringIndexer(inputCol=column, outputCol=column+\"_index\") for column in \n",
    "            ['NAME_CONTRACT_TYPE','CODE_GENDER','FLAG_OWN_CAR','FLAG_OWN_REALTY','NAME_INCOME_TYPE',\n",
    "             'NAME_EDUCATION_TYPE','ORGANIZATION_TYPE']] \n",
    "encoder = [OneHotEncoder().setInputCol(column+\"_index\").setOutputCol(column + \"_Vec\") for column in \n",
    "           ['NAME_INCOME_TYPE', 'NAME_EDUCATION_TYPE','ORGANIZATION_TYPE']] "
   ]
  },
  {
   "cell_type": "code",
   "execution_count": 10,
   "metadata": {
    "collapsed": true
   },
   "outputs": [],
   "source": [
    "assembler = VectorAssembler().setInputCols(feature_cols).setOutputCol(\"features\")\n",
    "lr = LogisticRegression(maxIter=10, regParam=0.3, elasticNetParam=0.8)"
   ]
  },
  {
   "cell_type": "code",
   "execution_count": 11,
   "metadata": {
    "collapsed": true
   },
   "outputs": [],
   "source": [
    "splits = [0, 25.0, 35.0, 55.0, 100.0]\n",
    "bucketizer = Bucketizer(splits=splits, inputCol=\"AGE\", outputCol=\"bucketedData\")"
   ]
  },
  {
   "cell_type": "code",
   "execution_count": 12,
   "metadata": {
    "collapsed": true
   },
   "outputs": [],
   "source": [
    "pipeline = Pipeline(stages=[bucketizer] + indexers + encoder + [assembler, lr])\n",
    "pmodel = pipeline.fit(data)"
   ]
  },
  {
   "cell_type": "code",
   "execution_count": 13,
   "metadata": {
    "collapsed": true
   },
   "outputs": [],
   "source": [
    "# Model Persistence\n",
    "pmodel.write().overwrite().save('hdfs:///user/edureka_448212/pymodellr_ujjwal')"
   ]
  },
  {
   "cell_type": "code",
   "execution_count": 14,
   "metadata": {
    "collapsed": true
   },
   "outputs": [],
   "source": [
    "predictions = pmodel.transform(data)"
   ]
  },
  {
   "cell_type": "code",
   "execution_count": 15,
   "metadata": {
    "collapsed": true
   },
   "outputs": [],
   "source": [
    "pipeline = PipelineModel.load(\"hdfs:///user/edureka_448212/pymodellr_ujjwal\")"
   ]
  },
  {
   "cell_type": "code",
   "execution_count": 16,
   "metadata": {
    "collapsed": true
   },
   "outputs": [],
   "source": [
    "predictions = pipeline.transform(data)"
   ]
  },
  {
   "cell_type": "code",
   "execution_count": 17,
   "metadata": {},
   "outputs": [
    {
     "name": "stdout",
     "output_type": "stream",
     "text": [
      "+------+------------------+-----------+------------+---------------+------------+----------------+----------+-----------+----------------+--------------------+--------------------+-----------------+----------+-------------+----------+--------------+---------------+----------------+----------+---------------+--------------------+---------------------------+--------------------------+--------------------------+--------------------+---------------+---------------+---------------+---------------+---------------+---------------+---------------+---------------+----------------+----------------+----------------+-----------------+------------------+---------------------+----------------------+-------------------+---------------------+-----+------------+------------------------+-----------------+------------------+---------------------+----------------------+-------------------------+-----------------------+--------------------+-----------------------+---------------------+--------------------+--------------------+--------------------+----------+\n",
      "|TARGET|NAME_CONTRACT_TYPE|CODE_GENDER|FLAG_OWN_CAR|FLAG_OWN_REALTY|CNT_CHILDREN|AMT_INCOME_TOTAL|AMT_CREDIT|AMT_ANNUITY|NAME_INCOME_TYPE| NAME_EDUCATION_TYPE|  NAME_FAMILY_STATUS|NAME_HOUSING_TYPE|DAYS_BIRTH|DAYS_EMPLOYED|FLAG_MOBIL|FLAG_EMP_PHONE|FLAG_WORK_PHONE|FLAG_CONT_MOBILE|FLAG_PHONE|CNT_FAM_MEMBERS|REGION_RATING_CLIENT|REGION_RATING_CLIENT_W_CITY|REG_REGION_NOT_LIVE_REGION|REG_REGION_NOT_WORK_REGION|   ORGANIZATION_TYPE|FLAG_DOCUMENT_2|FLAG_DOCUMENT_3|FLAG_DOCUMENT_4|FLAG_DOCUMENT_5|FLAG_DOCUMENT_6|FLAG_DOCUMENT_7|FLAG_DOCUMENT_8|FLAG_DOCUMENT_9|FLAG_DOCUMENT_10|FLAG_DOCUMENT_11|FLAG_DOCUMENT_12|              AGE|DAYS_EMPLOYED_ANOM|CREDIT_INCOME_PERCENT|ANNUITY_INCOME_PERCENT|        CREDIT_TERM|DAYS_EMPLOYED_PERCENT|label|bucketedData|NAME_CONTRACT_TYPE_index|CODE_GENDER_index|FLAG_OWN_CAR_index|FLAG_OWN_REALTY_index|NAME_INCOME_TYPE_index|NAME_EDUCATION_TYPE_index|ORGANIZATION_TYPE_index|NAME_INCOME_TYPE_Vec|NAME_EDUCATION_TYPE_Vec|ORGANIZATION_TYPE_Vec|            features|       rawPrediction|         probability|prediction|\n",
      "+------+------------------+-----------+------------+---------------+------------+----------------+----------+-----------+----------------+--------------------+--------------------+-----------------+----------+-------------+----------+--------------+---------------+----------------+----------+---------------+--------------------+---------------------------+--------------------------+--------------------------+--------------------+---------------+---------------+---------------+---------------+---------------+---------------+---------------+---------------+----------------+----------------+----------------+-----------------+------------------+---------------------+----------------------+-------------------+---------------------+-----+------------+------------------------+-----------------+------------------+---------------------+----------------------+-------------------------+-----------------------+--------------------+-----------------------+---------------------+--------------------+--------------------+--------------------+----------+\n",
      "|     1|        Cash loans|          M|           N|              Y|           0|        202500.0|  406597.5|    24700.5|         Working|Secondary / secon...|Single / not married|House / apartment|     -9461|         -637|         1|             1|              0|               1|         1|            1.0|                   2|                          2|                         0|                         0|Business Entity T...|              0|              1|              0|              0|              0|              0|              0|              0|               0|               0|               0|25.92054794520548|             false|    2.007888888888889|   0.12197777777777778|0.06074926678103038|   0.0673290349857309|    1|         1.0|                     0.0|              1.0|               0.0|                  0.0|                   0.0|                      0.0|                    0.0|       (3,[0],[1.0])|          (3,[0],[1.0])|       (49,[0],[1.0])|(92,[1,2,3,4,5,6,...|[2.58668934409794...|[0.93,0.070000000...|       0.0|\n",
      "+------+------------------+-----------+------------+---------------+------------+----------------+----------+-----------+----------------+--------------------+--------------------+-----------------+----------+-------------+----------+--------------+---------------+----------------+----------+---------------+--------------------+---------------------------+--------------------------+--------------------------+--------------------+---------------+---------------+---------------+---------------+---------------+---------------+---------------+---------------+----------------+----------------+----------------+-----------------+------------------+---------------------+----------------------+-------------------+---------------------+-----+------------+------------------------+-----------------+------------------+---------------------+----------------------+-------------------------+-----------------------+--------------------+-----------------------+---------------------+--------------------+--------------------+--------------------+----------+\n",
      "only showing top 1 row\n",
      "\n"
     ]
    }
   ],
   "source": [
    "predictions.show(1)"
   ]
  },
  {
   "cell_type": "code",
   "execution_count": null,
   "metadata": {
    "collapsed": true
   },
   "outputs": [],
   "source": []
  }
 ],
 "metadata": {
  "kernelspec": {
   "display_name": "PySpark",
   "language": "python",
   "name": "pyspark"
  },
  "language_info": {
   "codemirror_mode": {
    "name": "ipython",
    "version": 2
   },
   "file_extension": ".py",
   "mimetype": "text/x-python",
   "name": "python",
   "nbconvert_exporter": "python",
   "pygments_lexer": "ipython2",
   "version": "2.7.14"
  }
 },
 "nbformat": 4,
 "nbformat_minor": 2
}
