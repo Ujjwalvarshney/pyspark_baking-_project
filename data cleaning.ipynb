{
 "cells": [
  {
   "cell_type": "code",
   "execution_count": 1,
   "metadata": {
    "collapsed": true
   },
   "outputs": [],
   "source": [
    "import pandas as pd"
   ]
  },
  {
   "cell_type": "code",
   "execution_count": 2,
   "metadata": {
    "collapsed": true
   },
   "outputs": [],
   "source": [
    "tmp=pd.read_csv('/mnt/home/edureka_448212/application.csv')"
   ]
  },
  {
   "cell_type": "code",
   "execution_count": 3,
   "metadata": {
    "collapsed": true
   },
   "outputs": [],
   "source": [
    "# selecting only few\n",
    "subset = tmp[['TARGET',\n",
    "'NAME_CONTRACT_TYPE',\n",
    "'CODE_GENDER',\n",
    "'FLAG_OWN_CAR',\n",
    "'FLAG_OWN_REALTY',\n",
    "'CNT_CHILDREN',\n",
    "'AMT_INCOME_TOTAL',\n",
    "'AMT_CREDIT',\n",
    "'AMT_ANNUITY',\n",
    "'NAME_INCOME_TYPE',\n",
    "'NAME_EDUCATION_TYPE',\n",
    "'NAME_FAMILY_STATUS',\n",
    "'NAME_HOUSING_TYPE',\n",
    "'DAYS_BIRTH',\n",
    "'DAYS_EMPLOYED',\n",
    "'FLAG_MOBIL',\n",
    "'FLAG_EMP_PHONE',\n",
    "'FLAG_WORK_PHONE',\n",
    "'FLAG_CONT_MOBILE',\n",
    "'FLAG_PHONE',\n",
    "'CNT_FAM_MEMBERS',\n",
    "'REGION_RATING_CLIENT',\n",
    "'REGION_RATING_CLIENT_W_CITY',\n",
    "'REG_REGION_NOT_LIVE_REGION',\n",
    "'REG_REGION_NOT_WORK_REGION',\n",
    "'ORGANIZATION_TYPE',\n",
    "'FLAG_DOCUMENT_2',\n",
    "'FLAG_DOCUMENT_3',\n",
    "'FLAG_DOCUMENT_4',\n",
    "'FLAG_DOCUMENT_5',\n",
    "'FLAG_DOCUMENT_6',\n",
    "'FLAG_DOCUMENT_7',\n",
    "'FLAG_DOCUMENT_8',\n",
    "'FLAG_DOCUMENT_9',\n",
    "'FLAG_DOCUMENT_10',\n",
    "'FLAG_DOCUMENT_11',\n",
    "'FLAG_DOCUMENT_12'\n",
    "]]"
   ]
  },
  {
   "cell_type": "code",
   "execution_count": 4,
   "metadata": {},
   "outputs": [
    {
     "data": {
      "text/plain": [
       "SK_ID_CURR                         0\n",
       "TARGET                             0\n",
       "NAME_CONTRACT_TYPE                 0\n",
       "CODE_GENDER                        0\n",
       "FLAG_OWN_CAR                       0\n",
       "FLAG_OWN_REALTY                    0\n",
       "CNT_CHILDREN                       0\n",
       "AMT_INCOME_TOTAL                   0\n",
       "AMT_CREDIT                         0\n",
       "AMT_ANNUITY                       12\n",
       "AMT_GOODS_PRICE                  278\n",
       "NAME_TYPE_SUITE                 1292\n",
       "NAME_INCOME_TYPE                   0\n",
       "NAME_EDUCATION_TYPE                0\n",
       "NAME_FAMILY_STATUS                 0\n",
       "NAME_HOUSING_TYPE                  0\n",
       "REGION_POPULATION_RELATIVE         0\n",
       "DAYS_BIRTH                         0\n",
       "DAYS_EMPLOYED                      0\n",
       "DAYS_REGISTRATION                  0\n",
       "DAYS_ID_PUBLISH                    0\n",
       "OWN_CAR_AGE                   202929\n",
       "FLAG_MOBIL                         0\n",
       "FLAG_EMP_PHONE                     0\n",
       "FLAG_WORK_PHONE                    0\n",
       "FLAG_CONT_MOBILE                   0\n",
       "FLAG_PHONE                         0\n",
       "FLAG_EMAIL                         0\n",
       "OCCUPATION_TYPE                96391\n",
       "CNT_FAM_MEMBERS                    2\n",
       "                               ...  \n",
       "DEF_30_CNT_SOCIAL_CIRCLE        1021\n",
       "OBS_60_CNT_SOCIAL_CIRCLE        1021\n",
       "DEF_60_CNT_SOCIAL_CIRCLE        1021\n",
       "DAYS_LAST_PHONE_CHANGE             1\n",
       "FLAG_DOCUMENT_2                    0\n",
       "FLAG_DOCUMENT_3                    0\n",
       "FLAG_DOCUMENT_4                    0\n",
       "FLAG_DOCUMENT_5                    0\n",
       "FLAG_DOCUMENT_6                    0\n",
       "FLAG_DOCUMENT_7                    0\n",
       "FLAG_DOCUMENT_8                    0\n",
       "FLAG_DOCUMENT_9                    0\n",
       "FLAG_DOCUMENT_10                   0\n",
       "FLAG_DOCUMENT_11                   0\n",
       "FLAG_DOCUMENT_12                   0\n",
       "FLAG_DOCUMENT_13                   0\n",
       "FLAG_DOCUMENT_14                   0\n",
       "FLAG_DOCUMENT_15                   0\n",
       "FLAG_DOCUMENT_16                   0\n",
       "FLAG_DOCUMENT_17                   0\n",
       "FLAG_DOCUMENT_18                   0\n",
       "FLAG_DOCUMENT_19                   0\n",
       "FLAG_DOCUMENT_20                   0\n",
       "FLAG_DOCUMENT_21                   0\n",
       "AMT_REQ_CREDIT_BUREAU_HOUR     41519\n",
       "AMT_REQ_CREDIT_BUREAU_DAY      41519\n",
       "AMT_REQ_CREDIT_BUREAU_WEEK     41519\n",
       "AMT_REQ_CREDIT_BUREAU_MON      41519\n",
       "AMT_REQ_CREDIT_BUREAU_QRT      41519\n",
       "AMT_REQ_CREDIT_BUREAU_YEAR     41519\n",
       "Length: 122, dtype: int64"
      ]
     },
     "execution_count": 4,
     "metadata": {},
     "output_type": "execute_result"
    }
   ],
   "source": [
    "tmp.isna().sum()"
   ]
  },
  {
   "cell_type": "code",
   "execution_count": 5,
   "metadata": {
    "collapsed": true
   },
   "outputs": [],
   "source": [
    "subset.dropna().to_csv('/mnt/home/edureka_448212/df1.csv',header=None,index = None)"
   ]
  },
  {
   "cell_type": "code",
   "execution_count": null,
   "metadata": {
    "collapsed": true
   },
   "outputs": [],
   "source": []
  }
 ],
 "metadata": {
  "kernelspec": {
   "display_name": "PySpark",
   "language": "python",
   "name": "pyspark"
  },
  "language_info": {
   "codemirror_mode": {
    "name": "ipython",
    "version": 2
   },
   "file_extension": ".py",
   "mimetype": "text/x-python",
   "name": "python",
   "nbconvert_exporter": "python",
   "pygments_lexer": "ipython2",
   "version": "2.7.14"
  }
 },
 "nbformat": 4,
 "nbformat_minor": 2
}
